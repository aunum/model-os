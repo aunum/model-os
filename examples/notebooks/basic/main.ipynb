{
 "cells": [
  {
   "cell_type": "code",
   "execution_count": 1,
   "metadata": {},
   "outputs": [],
   "source": [
    "from typing import Iterable\n",
    "\n",
    "from modelos import Object\n",
    "\n",
    "\n",
    "# Inherit 'Object' on any typed Python class\n",
    "class Foo(Object):\n",
    "    \"\"\"A classic Foo\"\"\"\n",
    "    \n",
    "    id: str\n",
    "    amount: int\n",
    "\n",
    "    def __init__(self, id: str, amount: int) -> None:\n",
    "        self.id = id\n",
    "        self.amount = amount\n",
    "\n",
    "    def add(self, amount: int) -> None:\n",
    "        self.amount += amount\n",
    "\n",
    "    def echo(self, s: str) -> str:\n",
    "        return f\"hello {s}\"\n",
    "\n",
    "    def stream(self, s: str) -> Iterable[str]:\n",
    "        for i in range(self.amount):\n",
    "            yield f\"hello {s} {i}\""
   ]
  },
  {
   "cell_type": "code",
   "execution_count": 2,
   "metadata": {},
   "outputs": [
    {
     "ename": "ValueError",
     "evalue": "could not find a configured registry url, please set either $MDL_OBJ_REPO, add `tool.modelos.obj_repo` to pyproject.toml, or add `obj_repo` to mdl.yaml",
     "output_type": "error",
     "traceback": [
      "\u001b[0;31m---------------------------------------------------------------------------\u001b[0m",
      "\u001b[0;31mValueError\u001b[0m                                Traceback (most recent call last)",
      "Cell \u001b[0;32mIn[2], line 2\u001b[0m\n\u001b[1;32m      1\u001b[0m \u001b[39m# This will generate foo_client.py and import it\u001b[39;00m\n\u001b[0;32m----> 2\u001b[0m FooClient \u001b[39m=\u001b[39m Foo\u001b[39m.\u001b[39;49mclient(\u001b[39m\"\u001b[39;49m\u001b[39maunum/mdl-test\u001b[39;49m\u001b[39m\"\u001b[39;49m)\n\u001b[1;32m      4\u001b[0m \u001b[39m# Generates foo_server.py as well as a dockerfile and runs it on Kubernetes\u001b[39;00m\n\u001b[1;32m      5\u001b[0m foo \u001b[39m=\u001b[39m FooClient(\u001b[39mid\u001b[39m\u001b[39m=\u001b[39m\u001b[39m\"\u001b[39m\u001b[39mbar\u001b[39m\u001b[39m\"\u001b[39m, amount\u001b[39m=\u001b[39m\u001b[39m7\u001b[39m)\n",
      "File \u001b[0;32m~/ghq/github.com/aunum/modelos/modelos/object/base.py:1984\u001b[0m, in \u001b[0;36mObject.client\u001b[0;34m(cls, repo, clean, dev_dependencies, reuse, hot, uri, use_project)\u001b[0m\n\u001b[1;32m   1980\u001b[0m     \u001b[39mcls\u001b[39m \u001b[39m=\u001b[39m \u001b[39mcls\u001b[39m\u001b[39m.\u001b[39m_extract_and_load()\n\u001b[1;32m   1982\u001b[0m \u001b[39mif\u001b[39;00m uri \u001b[39mis\u001b[39;00m \u001b[39mNone\u001b[39;00m:\n\u001b[1;32m   1983\u001b[0m     client_cls \u001b[39m=\u001b[39m partialcls(\n\u001b[0;32m-> 1984\u001b[0m         \u001b[39mcls\u001b[39;49m\u001b[39m.\u001b[39;49m_client_cls(),\n\u001b[1;32m   1985\u001b[0m         repo\u001b[39m=\u001b[39mrepo,\n\u001b[1;32m   1986\u001b[0m         server\u001b[39m=\u001b[39m\u001b[39mcls\u001b[39m,\n\u001b[1;32m   1987\u001b[0m         reuse\u001b[39m=\u001b[39mreuse,\n\u001b[1;32m   1988\u001b[0m         clean\u001b[39m=\u001b[39mclean,\n\u001b[1;32m   1989\u001b[0m         dev_dependencies\u001b[39m=\u001b[39mdev_dependencies,\n\u001b[1;32m   1990\u001b[0m         hot\u001b[39m=\u001b[39mhot,\n\u001b[1;32m   1991\u001b[0m         scm\u001b[39m=\u001b[39m\u001b[39mcls\u001b[39m\u001b[39m.\u001b[39mscm,\n\u001b[1;32m   1992\u001b[0m     )\n\u001b[1;32m   1993\u001b[0m \u001b[39melse\u001b[39;00m:\n\u001b[1;32m   1994\u001b[0m     client_cls \u001b[39m=\u001b[39m partialcls(\n\u001b[1;32m   1995\u001b[0m         \u001b[39mcls\u001b[39m\u001b[39m.\u001b[39m_client_cls(),\n\u001b[1;32m   1996\u001b[0m         uri\u001b[39m=\u001b[39muri,\n\u001b[0;32m   (...)\u001b[0m\n\u001b[1;32m   2001\u001b[0m         scm\u001b[39m=\u001b[39m\u001b[39mcls\u001b[39m\u001b[39m.\u001b[39mscm,\n\u001b[1;32m   2002\u001b[0m     )\n",
      "File \u001b[0;32m~/ghq/github.com/aunum/modelos/modelos/object/base.py:1811\u001b[0m, in \u001b[0;36mObject._client_cls\u001b[0;34m(cls, version, repo, config)\u001b[0m\n\u001b[1;32m   1808\u001b[0m     \u001b[39mcls\u001b[39m \u001b[39m=\u001b[39m \u001b[39mcls\u001b[39m\u001b[39m.\u001b[39m_extract_and_load()\n\u001b[1;32m   1810\u001b[0m \u001b[39m# TODO: need to generate this\u001b[39;00m\n\u001b[0;32m-> 1811\u001b[0m \u001b[39mcls\u001b[39;49m\u001b[39m.\u001b[39;49m_write_client_file(version\u001b[39m=\u001b[39;49mversion, repo\u001b[39m=\u001b[39;49mrepo, config\u001b[39m=\u001b[39;49mconfig)\n\u001b[1;32m   1813\u001b[0m \u001b[39mcls\u001b[39m\u001b[39m.\u001b[39m_write_server_file()\n\u001b[1;32m   1815\u001b[0m cls_package \u001b[39m=\u001b[39m \u001b[39mcls\u001b[39m\u001b[39m.\u001b[39m_cls_pkg()\n",
      "File \u001b[0;32m~/ghq/github.com/aunum/modelos/modelos/object/base.py:3774\u001b[0m, in \u001b[0;36mObject._write_client_file\u001b[0;34m(cls, version, repo, config)\u001b[0m\n\u001b[1;32m   3772\u001b[0m logging\u001b[39m.\u001b[39minfo(\u001b[39mf\u001b[39m\u001b[39m\"\u001b[39m\u001b[39mwriting client file to \u001b[39m\u001b[39m{\u001b[39;00mfilepath\u001b[39m}\u001b[39;00m\u001b[39m\"\u001b[39m)\n\u001b[1;32m   3773\u001b[0m \u001b[39mwith\u001b[39;00m \u001b[39mopen\u001b[39m(filepath, \u001b[39m\"\u001b[39m\u001b[39mw\u001b[39m\u001b[39m\"\u001b[39m, encoding\u001b[39m=\u001b[39m\u001b[39m\"\u001b[39m\u001b[39mutf-8\u001b[39m\u001b[39m\"\u001b[39m) \u001b[39mas\u001b[39;00m f:\n\u001b[0;32m-> 3774\u001b[0m     client_code \u001b[39m=\u001b[39m \u001b[39mcls\u001b[39;49m\u001b[39m.\u001b[39;49m_gen_client(repo\u001b[39m=\u001b[39;49mrepo, version\u001b[39m=\u001b[39;49mversion, config\u001b[39m=\u001b[39;49mconfig)\n\u001b[1;32m   3775\u001b[0m     \u001b[39m# client_code = removestar.fix_code(client_code, file=filepath)\u001b[39;00m\n\u001b[1;32m   3776\u001b[0m     client_code \u001b[39m=\u001b[39m isort\u001b[39m.\u001b[39mcode(client_code)\n",
      "File \u001b[0;32m~/ghq/github.com/aunum/modelos/modelos/object/base.py:3105\u001b[0m, in \u001b[0;36mObject._gen_client\u001b[0;34m(cls, version, repo, config)\u001b[0m\n\u001b[1;32m   3103\u001b[0m \u001b[39mif\u001b[39;00m repo \u001b[39mis\u001b[39;00m \u001b[39mNone\u001b[39;00m:\n\u001b[1;32m   3104\u001b[0m     \u001b[39mif\u001b[39;00m config \u001b[39mis\u001b[39;00m \u001b[39mNone\u001b[39;00m:\n\u001b[0;32m-> 3105\u001b[0m         config \u001b[39m=\u001b[39m Config()\n\u001b[1;32m   3106\u001b[0m     orepo \u001b[39m=\u001b[39m config\u001b[39m.\u001b[39mget_obj_repo()\n\u001b[1;32m   3107\u001b[0m     \u001b[39mif\u001b[39;00m \u001b[39mnot\u001b[39;00m orepo:\n",
      "File \u001b[0;32m~/ghq/github.com/aunum/modelos/modelos/config.py:65\u001b[0m, in \u001b[0;36mConfig.__init__\u001b[0;34m(self, obj_repo, pkg_repo, img_repo, docker_socket, kube_namespace, remote_sync_strategy)\u001b[0m\n\u001b[1;32m     63\u001b[0m \u001b[39mif\u001b[39;00m \u001b[39mself\u001b[39m\u001b[39m.\u001b[39mobj_repo \u001b[39mis\u001b[39;00m \u001b[39mNone\u001b[39;00m \u001b[39mor\u001b[39;00m \u001b[39mself\u001b[39m\u001b[39m.\u001b[39mobj_repo \u001b[39m==\u001b[39m \u001b[39m\"\u001b[39m\u001b[39m\"\u001b[39m:\n\u001b[1;32m     64\u001b[0m     \u001b[39mif\u001b[39;00m \u001b[39mself\u001b[39m\u001b[39m.\u001b[39mimg_repo \u001b[39mis\u001b[39;00m \u001b[39mNone\u001b[39;00m \u001b[39mor\u001b[39;00m \u001b[39mself\u001b[39m\u001b[39m.\u001b[39mimg_repo \u001b[39m==\u001b[39m \u001b[39m\"\u001b[39m\u001b[39m\"\u001b[39m:\n\u001b[0;32m---> 65\u001b[0m         \u001b[39mraise\u001b[39;00m \u001b[39mValueError\u001b[39;00m(\n\u001b[1;32m     66\u001b[0m             \u001b[39m\"\u001b[39m\u001b[39mcould not find a configured registry url, please set either $MDL_OBJ_REPO,\u001b[39m\u001b[39m\"\u001b[39m\n\u001b[1;32m     67\u001b[0m             \u001b[39m+\u001b[39m \u001b[39m\"\u001b[39m\u001b[39m add `tool.modelos.obj_repo` to pyproject.toml, or add `obj_repo` to mdl.yaml\u001b[39m\u001b[39m\"\u001b[39m\n\u001b[1;32m     68\u001b[0m         )\n\u001b[1;32m     69\u001b[0m     \u001b[39mself\u001b[39m\u001b[39m.\u001b[39mobj_repo \u001b[39m=\u001b[39m \u001b[39mself\u001b[39m\u001b[39m.\u001b[39mimage_repo\n\u001b[1;32m     71\u001b[0m \u001b[39mif\u001b[39;00m pkg_repo \u001b[39mis\u001b[39;00m \u001b[39mNone\u001b[39;00m:\n",
      "\u001b[0;31mValueError\u001b[0m: could not find a configured registry url, please set either $MDL_OBJ_REPO, add `tool.modelos.obj_repo` to pyproject.toml, or add `obj_repo` to mdl.yaml"
     ]
    }
   ],
   "source": [
    "# This will generate foo_client.py and import it\n",
    "FooClient = Foo.client(\"aunum/mdl-test\")\n",
    "\n",
    "# Generates foo_server.py as well as a dockerfile and runs it on Kubernetes\n",
    "foo = FooClient(id=\"bar\", amount=7)\n",
    "foo.add(6)\n",
    "\n",
    "# Iterable types automaticallly generate websocket streams\n",
    "for s in foo.stream(\"baz\"):\n",
    "    print(s)\n",
    "\n",
    "# Store the object with its updated state as an image\n",
    "uri = foo.store()"
   ]
  },
  {
   "cell_type": "code",
   "execution_count": null,
   "metadata": {},
   "outputs": [],
   "source": []
  }
 ],
 "metadata": {
  "kernelspec": {
   "display_name": ".venv",
   "language": "python",
   "name": "python3"
  },
  "language_info": {
   "codemirror_mode": {
    "name": "ipython",
    "version": 3
   },
   "file_extension": ".py",
   "mimetype": "text/x-python",
   "name": "python",
   "nbconvert_exporter": "python",
   "pygments_lexer": "ipython3",
   "version": "3.10.10"
  },
  "orig_nbformat": 4
 },
 "nbformat": 4,
 "nbformat_minor": 2
}
